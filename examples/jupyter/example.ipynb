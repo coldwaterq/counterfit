{
 "cells": [
  {
   "cell_type": "code",
   "execution_count": null,
   "metadata": {},
   "outputs": [],
   "source": []
  },
  {
   "cell_type": "code",
   "execution_count": null,
   "metadata": {},
   "outputs": [],
   "source": [
    "import requests\n",
    "import numpy as np\n",
    "\n",
    "\n",
    "class Digits(CFTarget):\n",
    "    name = \"digits_blackbox\"\n",
    "    endpoint = \"http://localhost/predict\"\n",
    "    data_type = \"image\"\n",
    "    input_shape = (1, 28, 28)\n",
    "    output_classes = [\"0\", \"1\", \"2\", \"3\", \"4\", \"5\", \"6\", \"7\", \"8\", \"9\"]\n",
    "    samples = []\n",
    "\n",
    "    def load(self):\n",
    "        self.samples = np.load(\"mnist_784.npz\", allow_pickle=True)[\"X\"] # float in [0,255] \n",
    "\n",
    "    def predict(self, x):\n",
    "        x = np.array(x).astype(np.uint8).astype(np.float)  # quantize to valid range\n",
    "        scores = self.predict_proba(x.reshape(x.shape[0], -1))\n",
    "        # return a list of class probabilities; each row must be the same length as target_output_classes\n",
    "        return scores.tolist()\n",
    "\n",
    "\n",
    "from transformers import AutoFeatureExtractor, DeiTForImageClassificationWithTeacher\n",
    "from PIL import Image\n",
    "import requests\n",
    "\n",
    "url = 'http://images.cocodataset.org/val2017/000000039769.jpg'\n",
    "image = Image.open(requests.get(url, stream=True).raw)\n",
    "\n",
    "feature_extractor = AutoFeatureExtractor.from_pretrained('facebook/deit-base-distilled-patch16-224')\n",
    "model = DeiTForImageClassificationWithTeacher.from_pretrained('facebook/deit-base-distilled-patch16-224')\n",
    "\n",
    "inputs = feature_extractor(images=image, return_tensors=\"pt\")\n",
    "\n",
    "# forward pass\n",
    "outputs = model(**inputs)\n",
    "logits = outputs.logits\n",
    "\n",
    "# model predicts one of the 1000 ImageNet classes\n",
    "predicted_class_idx = logits.argmax(-1).item()\n",
    "print(\"Predicted class:\", model.config.id2label[predicted_class_idx])"
   ]
  },
  {
   "cell_type": "code",
   "execution_count": null,
   "metadata": {},
   "outputs": [],
   "source": [
    "attack = \"Blur\"\n",
    "target = Digits()\n",
    "target.load()"
   ]
  },
  {
   "cell_type": "code",
   "execution_count": null,
   "metadata": {},
   "outputs": [],
   "source": [
    "Counterfit.get_frameworks().keys()"
   ]
  },
  {
   "cell_type": "code",
   "execution_count": null,
   "metadata": {},
   "outputs": [],
   "source": [
    "cfattack = Counterfit.build_attack(target, attack)\n",
    "results = Counterfit.run_attack(cfattack)"
   ]
  },
  {
   "cell_type": "code",
   "execution_count": null,
   "metadata": {},
   "outputs": [],
   "source": [
    "# set attack and target\n",
    "attack = \"hop_skip_jump\"\n",
    "target = CreditFraud()\n",
    "target.load()"
   ]
  },
  {
   "cell_type": "code",
   "execution_count": null,
   "metadata": {},
   "outputs": [],
   "source": [
    "# Individual attack\n",
    "cfattack = Counterfit.build_attack(target, attack)\n",
    "results = Counterfit.run_attack(cfattack)"
   ]
  },
  {
   "cell_type": "code",
   "execution_count": null,
   "metadata": {},
   "outputs": [],
   "source": [
    "# Optimized attack\n",
    "from counterfit.core.utils import set_id\n",
    "scan_id = set_id()\n",
    "optuna_study = optimize.optimize(scan_id, target, attack, num_iters=5)\n",
    "print(optuna_study.best_trials[0].params)"
   ]
  },
  {
   "cell_type": "code",
   "execution_count": null,
   "metadata": {},
   "outputs": [],
   "source": [
    "# Attack with best params\n",
    "cfattack = Counterfit.attack_builder(target, attack)\n",
    "cfattack.options.update_attack_parameters(optuna_study.best_trials[0].params)\n",
    "results = Counterfit.attack_runner(cfattack)\n",
    "cfattack.logger.num_queries"
   ]
  },
  {
   "cell_type": "code",
   "execution_count": null,
   "metadata": {},
   "outputs": [],
   "source": [
    "from optuna.visualization import plot_contour\n",
    "plot_contour(optuna_study, target=lambda t: t.values[0])"
   ]
  },
  {
   "cell_type": "code",
   "execution_count": null,
   "metadata": {},
   "outputs": [],
   "source": [
    "from optuna.visualization import plot_intermediate_values\n",
    "plot_intermediate_values(optuna_study)"
   ]
  },
  {
   "cell_type": "code",
   "execution_count": null,
   "metadata": {},
   "outputs": [],
   "source": [
    "from optuna.visualization import plot_parallel_coordinate\n",
    "plot_parallel_coordinate(optuna_study, target=lambda t: t.values[1])"
   ]
  },
  {
   "cell_type": "code",
   "execution_count": null,
   "metadata": {},
   "outputs": [],
   "source": [
    "from optuna.visualization import plot_slice\n",
    "plot_slice(optuna_study, target=lambda t: t.values[1])"
   ]
  },
  {
   "cell_type": "code",
   "execution_count": null,
   "metadata": {},
   "outputs": [],
   "source": [
    "from optuna.visualization import plot_edf\n",
    "plot_edf(optuna_study, target=lambda t: t.values[1])"
   ]
  },
  {
   "cell_type": "code",
   "execution_count": null,
   "metadata": {},
   "outputs": [],
   "source": [
    "from optuna.visualization import plot_optimization_history\n",
    "plot_optimization_history(optuna_study, target=lambda t: t.values[1])"
   ]
  },
  {
   "cell_type": "code",
   "execution_count": null,
   "metadata": {},
   "outputs": [],
   "source": [
    "from optuna.visualization import plot_param_importances\n",
    "plot_param_importances(optuna_study, target=lambda t: t.values[0])"
   ]
  },
  {
   "cell_type": "code",
   "execution_count": null,
   "metadata": {},
   "outputs": [],
   "source": []
  }
 ],
 "metadata": {
  "kernelspec": {
   "display_name": "Python 3.9.2 ('cf-venv')",
   "language": "python",
   "name": "python3"
  },
  "language_info": {
   "codemirror_mode": {
    "name": "ipython",
    "version": 3
   },
   "file_extension": ".py",
   "mimetype": "text/x-python",
   "name": "python",
   "nbconvert_exporter": "python",
   "pygments_lexer": "ipython3",
   "version": "3.9.2"
  },
  "orig_nbformat": 4,
  "vscode": {
   "interpreter": {
    "hash": "791563947ffe968acf52fd8a68ef9deccfb5aa88c4c222f7719669bcfe7bc1b3"
   }
  }
 },
 "nbformat": 4,
 "nbformat_minor": 2
}
